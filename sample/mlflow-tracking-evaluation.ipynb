{
 "cells": [
  {
   "cell_type": "markdown",
   "metadata": {},
   "source": [
    "![mlflow - Tracking](https://www.recordedfuture.com/assets/machine-learning-cybersecurity-applications.png)\n",
    "\n",
    "Source: https://www.recordedfuture.com/machine-learning-cybersecurity-applications/"
   ]
  },
  {
   "cell_type": "markdown",
   "metadata": {},
   "source": [
    "In data science work, Jupyter notebook is a well known tools. Other than, we may use databricks's notebook or Colab( by Google). How about productization? \n",
    "\n",
    "How can deploy our model to production? We can use TensorFlow Serving if you are using tensorflow library to build model. Data Science Workbench can be used if you use Azure platform. What if we do use the above solution? Some company built an internal system such as michaelangelo (by Uber), FBLearner Flow (by Facebook). However, those platform is designed for their internal system. \n",
    "\n",
    "Do we have open source? Before that, we have modeldb. We have new option, mlflow,  which just released alpha version in last week (5 Jun 2018). Let have a tour to this product."
   ]
  },
  {
   "cell_type": "markdown",
   "metadata": {},
   "source": [
    "### Data Preparation"
   ]
  },
  {
   "cell_type": "code",
   "execution_count": 16,
   "metadata": {},
   "outputs": [],
   "source": [
    "from sklearn.datasets import load_iris\n",
    "import pandas as pd\n",
    "import numpy as np\n",
    "\n",
    "data = load_iris()\n",
    "\n",
    "feature_names = ['sepal_length', 'sepal_width', 'petal_length', 'petal_width']\n",
    "y_name = 'target'\n",
    "\n",
    "data_df = pd.DataFrame(\n",
    "    data=np.c_[data['data'], data['target']],\n",
    "    columns=feature_names + [y_name])\n",
    "# data_df.head()"
   ]
  },
  {
   "cell_type": "code",
   "execution_count": 2,
   "metadata": {},
   "outputs": [],
   "source": [
    "from sklearn.model_selection import train_test_split\n",
    "train, test = train_test_split(data_df)"
   ]
  },
  {
   "cell_type": "code",
   "execution_count": 3,
   "metadata": {},
   "outputs": [],
   "source": [
    "x_train = train[feature_names]\n",
    "y_train = train[y_name]\n",
    "\n",
    "x_test = test[feature_names]\n",
    "y_test = test[y_name]"
   ]
  },
  {
   "cell_type": "code",
   "execution_count": 4,
   "metadata": {},
   "outputs": [],
   "source": [
    "# Copy from mlflow example\n",
    "\n",
    "from sklearn.metrics import mean_squared_error, mean_absolute_error, r2_score\n",
    "def eval_metrics(actual, pred):\n",
    "    rmse = np.sqrt(mean_squared_error(actual, pred))\n",
    "    mae = mean_absolute_error(actual, pred)\n",
    "    r2 = r2_score(actual, pred)\n",
    "    return rmse, mae, r2"
   ]
  },
  {
   "cell_type": "markdown",
   "metadata": {},
   "source": [
    "![mlflow - Tracking](https://sdtimes.com/wp-content/uploads/2018/06/mlflow-490x245.png)\n",
    "\n",
    "Source: https://sdtimes.com/ai/databricks-releases-mlflow-runtime-for-ml-and-databricks-delta-at-spark-ai-summit/"
   ]
  },
  {
   "cell_type": "code",
   "execution_count": 5,
   "metadata": {},
   "outputs": [],
   "source": [
    "import mlflow\n",
    "import mlflow.sklearn"
   ]
  },
  {
   "cell_type": "markdown",
   "metadata": {},
   "source": [
    "##### Since cannot retrieve user from window environment. I override the deafult name. (Not recommend)"
   ]
  },
  {
   "cell_type": "code",
   "execution_count": 12,
   "metadata": {},
   "outputs": [],
   "source": [
    "mlflow.tracking._DEFAULT_USER_ID = 'Edward Ma'"
   ]
  },
  {
   "cell_type": "markdown",
   "metadata": {},
   "source": [
    "##### Set the tracking destination"
   ]
  },
  {
   "cell_type": "code",
   "execution_count": 13,
   "metadata": {},
   "outputs": [],
   "source": [
    "mlflow.set_tracking_uri(\"http://localhost:5000\")"
   ]
  },
  {
   "cell_type": "code",
   "execution_count": 14,
   "metadata": {},
   "outputs": [],
   "source": [
    "# First of all, you have to execute the following command in command line to start the UI service\n",
    "# mlflow ui"
   ]
  },
  {
   "cell_type": "markdown",
   "metadata": {},
   "source": [
    "### Tracking"
   ]
  },
  {
   "cell_type": "code",
   "execution_count": 15,
   "metadata": {},
   "outputs": [
    {
     "name": "stdout",
     "output_type": "stream",
     "text": [
      "req_body: {\n",
      "  \"experimentId\": \"0\",\n",
      "  \"userId\": \"Edward Ma\",\n",
      "  \"sourceType\": \"LOCAL\",\n",
      "  \"sourceName\": \"medium.com makcedward\",\n",
      "  \"startTime\": \"1528651551644\",\n",
      "  \"sourceVersion\": \"1.0.0\"\n",
      "}\n"
     ]
    },
    {
     "name": "stderr",
     "output_type": "stream",
     "text": [
      "C:\\ProgramData\\Anaconda3\\lib\\site-packages\\sklearn\\utils\\optimize.py:203: ConvergenceWarning: newton-cg failed to converge. Increase the number of iterations.\n",
      "  \"number of iterations.\", ConvergenceWarning)\n"
     ]
    },
    {
     "name": "stdout",
     "output_type": "stream",
     "text": [
      "req_body: {\n",
      "  \"experimentId\": \"0\",\n",
      "  \"userId\": \"Edward Ma\",\n",
      "  \"sourceType\": \"LOCAL\",\n",
      "  \"sourceName\": \"medium.com makcedward\",\n",
      "  \"startTime\": \"1528651560852\",\n",
      "  \"sourceVersion\": \"1.0.1\"\n",
      "}\n",
      "req_body: {\n",
      "  \"experimentId\": \"0\",\n",
      "  \"userId\": \"Edward Ma\",\n",
      "  \"sourceType\": \"LOCAL\",\n",
      "  \"sourceName\": \"medium.com makcedward\",\n",
      "  \"startTime\": \"1528651570041\",\n",
      "  \"sourceVersion\": \"1.0.2\"\n",
      "}\n",
      "req_body: {\n",
      "  \"experimentId\": \"0\",\n",
      "  \"userId\": \"Edward Ma\",\n",
      "  \"sourceType\": \"LOCAL\",\n",
      "  \"sourceName\": \"medium.com makcedward\",\n",
      "  \"startTime\": \"1528651579203\",\n",
      "  \"sourceVersion\": \"1.0.3\"\n",
      "}\n"
     ]
    }
   ],
   "source": [
    "from sklearn.linear_model import LogisticRegression\n",
    "\n",
    "tuned_parameters = [\n",
    "    {'penalty': 'l2', 'solver': 'newton-cg', 'max_iter': 10},\n",
    "    {'penalty': 'l1', 'solver': 'liblinear', 'max_iter': 10},\n",
    "    {'penalty': 'l1', 'solver': 'liblinear', 'max_iter': 30},\n",
    "    {'penalty': 'l2', 'solver': 'liblinear', 'max_iter': 50},\n",
    "]\n",
    "\n",
    "\n",
    "cnt = 0 \n",
    "for param in tuned_parameters:\n",
    "    with mlflow.start_run(source_name='medium.com makcedward', source_version='1.0.' + str(cnt)):\n",
    "        lr = LogisticRegression(max_iter=param['max_iter'], penalty=param['penalty'], solver=param['solver'])\n",
    "        lr.fit(x_train, y_train)\n",
    "        y_pred = lr.predict(x_test)\n",
    "\n",
    "        (rmse, mae, r2) = eval_metrics(y_test, y_pred)\n",
    "\n",
    "        mlflow.log_metric(\"rmse\", rmse)\n",
    "        mlflow.log_metric(\"r2\", r2)\n",
    "        mlflow.log_metric(\"mae\", mae)\n",
    "        mlflow.log_param(\"max_iter\", param['max_iter'])\n",
    "        mlflow.log_param(\"penalty\", param['penalty'])\n",
    "        mlflow.log_param(\"solver\", param['solver'])\n",
    "\n",
    "        mlflow.sklearn.log_model(lr, \"model\")\n",
    "        \n",
    "    cnt += 1"
   ]
  },
  {
   "cell_type": "code",
   "execution_count": null,
   "metadata": {},
   "outputs": [],
   "source": []
  }
 ],
 "metadata": {
  "kernelspec": {
   "display_name": "Python 3",
   "language": "python",
   "name": "python3"
  },
  "language_info": {
   "codemirror_mode": {
    "name": "ipython",
    "version": 3
   },
   "file_extension": ".py",
   "mimetype": "text/x-python",
   "name": "python",
   "nbconvert_exporter": "python",
   "pygments_lexer": "ipython3",
   "version": "3.6.4"
  }
 },
 "nbformat": 4,
 "nbformat_minor": 2
}
